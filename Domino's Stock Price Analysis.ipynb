{
 "cells": [
  {
   "cell_type": "code",
   "execution_count": 9,
   "id": "751db602",
   "metadata": {},
   "outputs": [
    {
     "data": {
      "text/html": [
       "<div>\n",
       "<style scoped>\n",
       "    .dataframe tbody tr th:only-of-type {\n",
       "        vertical-align: middle;\n",
       "    }\n",
       "\n",
       "    .dataframe tbody tr th {\n",
       "        vertical-align: top;\n",
       "    }\n",
       "\n",
       "    .dataframe thead th {\n",
       "        text-align: right;\n",
       "    }\n",
       "</style>\n",
       "<table border=\"1\" class=\"dataframe\">\n",
       "  <thead>\n",
       "    <tr style=\"text-align: right;\">\n",
       "      <th></th>\n",
       "      <th>Date</th>\n",
       "      <th>Open</th>\n",
       "      <th>High</th>\n",
       "      <th>Low</th>\n",
       "      <th>Close</th>\n",
       "      <th>Adj Close</th>\n",
       "      <th>Volume</th>\n",
       "    </tr>\n",
       "  </thead>\n",
       "  <tbody>\n",
       "    <tr>\n",
       "      <th>0</th>\n",
       "      <td>2019-10-16</td>\n",
       "      <td>254.89</td>\n",
       "      <td>257.61</td>\n",
       "      <td>253.08</td>\n",
       "      <td>255.96</td>\n",
       "      <td>251.60</td>\n",
       "      <td>525200</td>\n",
       "    </tr>\n",
       "    <tr>\n",
       "      <th>1</th>\n",
       "      <td>2019-10-17</td>\n",
       "      <td>256.12</td>\n",
       "      <td>259.96</td>\n",
       "      <td>255.78</td>\n",
       "      <td>256.45</td>\n",
       "      <td>252.09</td>\n",
       "      <td>515100</td>\n",
       "    </tr>\n",
       "    <tr>\n",
       "      <th>2</th>\n",
       "      <td>2019-10-18</td>\n",
       "      <td>257.45</td>\n",
       "      <td>258.40</td>\n",
       "      <td>254.23</td>\n",
       "      <td>255.70</td>\n",
       "      <td>251.35</td>\n",
       "      <td>609900</td>\n",
       "    </tr>\n",
       "    <tr>\n",
       "      <th>3</th>\n",
       "      <td>2019-10-21</td>\n",
       "      <td>256.61</td>\n",
       "      <td>259.84</td>\n",
       "      <td>255.67</td>\n",
       "      <td>257.52</td>\n",
       "      <td>253.14</td>\n",
       "      <td>499600</td>\n",
       "    </tr>\n",
       "    <tr>\n",
       "      <th>4</th>\n",
       "      <td>2019-10-22</td>\n",
       "      <td>257.27</td>\n",
       "      <td>259.47</td>\n",
       "      <td>255.38</td>\n",
       "      <td>258.94</td>\n",
       "      <td>254.53</td>\n",
       "      <td>343100</td>\n",
       "    </tr>\n",
       "    <tr>\n",
       "      <th>...</th>\n",
       "      <td>...</td>\n",
       "      <td>...</td>\n",
       "      <td>...</td>\n",
       "      <td>...</td>\n",
       "      <td>...</td>\n",
       "      <td>...</td>\n",
       "      <td>...</td>\n",
       "    </tr>\n",
       "    <tr>\n",
       "      <th>500</th>\n",
       "      <td>2021-10-11</td>\n",
       "      <td>477.88</td>\n",
       "      <td>484.46</td>\n",
       "      <td>472.43</td>\n",
       "      <td>479.48</td>\n",
       "      <td>479.48</td>\n",
       "      <td>359600</td>\n",
       "    </tr>\n",
       "    <tr>\n",
       "      <th>501</th>\n",
       "      <td>2021-10-12</td>\n",
       "      <td>481.37</td>\n",
       "      <td>483.16</td>\n",
       "      <td>476.13</td>\n",
       "      <td>480.05</td>\n",
       "      <td>480.05</td>\n",
       "      <td>413500</td>\n",
       "    </tr>\n",
       "    <tr>\n",
       "      <th>502</th>\n",
       "      <td>2021-10-13</td>\n",
       "      <td>479.72</td>\n",
       "      <td>480.46</td>\n",
       "      <td>474.03</td>\n",
       "      <td>476.28</td>\n",
       "      <td>476.28</td>\n",
       "      <td>629700</td>\n",
       "    </tr>\n",
       "    <tr>\n",
       "      <th>503</th>\n",
       "      <td>2021-10-14</td>\n",
       "      <td>461.00</td>\n",
       "      <td>489.89</td>\n",
       "      <td>455.96</td>\n",
       "      <td>477.48</td>\n",
       "      <td>477.48</td>\n",
       "      <td>1518300</td>\n",
       "    </tr>\n",
       "    <tr>\n",
       "      <th>504</th>\n",
       "      <td>2021-10-15</td>\n",
       "      <td>473.89</td>\n",
       "      <td>475.00</td>\n",
       "      <td>453.34</td>\n",
       "      <td>454.91</td>\n",
       "      <td>454.91</td>\n",
       "      <td>1369200</td>\n",
       "    </tr>\n",
       "  </tbody>\n",
       "</table>\n",
       "<p>505 rows × 7 columns</p>\n",
       "</div>"
      ],
      "text/plain": [
       "           Date    Open    High     Low   Close  Adj Close   Volume\n",
       "0    2019-10-16  254.89  257.61  253.08  255.96     251.60   525200\n",
       "1    2019-10-17  256.12  259.96  255.78  256.45     252.09   515100\n",
       "2    2019-10-18  257.45  258.40  254.23  255.70     251.35   609900\n",
       "3    2019-10-21  256.61  259.84  255.67  257.52     253.14   499600\n",
       "4    2019-10-22  257.27  259.47  255.38  258.94     254.53   343100\n",
       "..          ...     ...     ...     ...     ...        ...      ...\n",
       "500  2021-10-11  477.88  484.46  472.43  479.48     479.48   359600\n",
       "501  2021-10-12  481.37  483.16  476.13  480.05     480.05   413500\n",
       "502  2021-10-13  479.72  480.46  474.03  476.28     476.28   629700\n",
       "503  2021-10-14  461.00  489.89  455.96  477.48     477.48  1518300\n",
       "504  2021-10-15  473.89  475.00  453.34  454.91     454.91  1369200\n",
       "\n",
       "[505 rows x 7 columns]"
      ]
     },
     "execution_count": 9,
     "metadata": {},
     "output_type": "execute_result"
    }
   ],
   "source": [
    "import pandas as pd\n",
    "from scipy import stats\n",
    "from sklearn.cluster import KMeans\n",
    "import matplotlib.pyplot as plt\n",
    "\n",
    "\n",
    "\n",
    "#Initial Data Inspection\n",
    "dominos = pd.read_csv('Dominos_Stock_Data.csv')\n",
    "dominos"
   ]
  },
  {
   "cell_type": "code",
   "execution_count": 10,
   "id": "d5d52dbb",
   "metadata": {},
   "outputs": [
    {
     "data": {
      "text/plain": [
       "(505, 7)"
      ]
     },
     "execution_count": 10,
     "metadata": {},
     "output_type": "execute_result"
    }
   ],
   "source": [
    "#Finds number of rows and columns.\n",
    "dominos.shape"
   ]
  },
  {
   "cell_type": "code",
   "execution_count": 11,
   "id": "93aa42a0",
   "metadata": {},
   "outputs": [
    {
     "data": {
      "text/plain": [
       "Index(['Date', 'Open', 'High', 'Low', 'Close', 'Adj Close', 'Volume'], dtype='object')"
      ]
     },
     "execution_count": 11,
     "metadata": {},
     "output_type": "execute_result"
    }
   ],
   "source": [
    "#Finds what columns exist in the dataset.\n",
    "dominos.columns"
   ]
  },
  {
   "cell_type": "code",
   "execution_count": 12,
   "id": "4c8d7791",
   "metadata": {},
   "outputs": [
    {
     "data": {
      "text/plain": [
       "Date          object\n",
       "Open         float64\n",
       "High         float64\n",
       "Low          float64\n",
       "Close        float64\n",
       "Adj Close    float64\n",
       "Volume         int64\n",
       "dtype: object"
      ]
     },
     "execution_count": 12,
     "metadata": {},
     "output_type": "execute_result"
    }
   ],
   "source": [
    "#Data types being stored in each column.\n",
    "dominos.dtypes"
   ]
  },
  {
   "cell_type": "code",
   "execution_count": 13,
   "id": "3675a536",
   "metadata": {},
   "outputs": [
    {
     "data": {
      "text/plain": [
       "Date         0\n",
       "Open         0\n",
       "High         0\n",
       "Low          0\n",
       "Close        0\n",
       "Adj Close    0\n",
       "Volume       0\n",
       "dtype: int64"
      ]
     },
     "execution_count": 13,
     "metadata": {},
     "output_type": "execute_result"
    }
   ],
   "source": [
    "#Finding any null values in the dataset.\n",
    "dominos.isnull().sum()"
   ]
  },
  {
   "cell_type": "code",
   "execution_count": 14,
   "id": "c2393644",
   "metadata": {},
   "outputs": [
    {
     "data": {
      "text/html": [
       "<div>\n",
       "<style scoped>\n",
       "    .dataframe tbody tr th:only-of-type {\n",
       "        vertical-align: middle;\n",
       "    }\n",
       "\n",
       "    .dataframe tbody tr th {\n",
       "        vertical-align: top;\n",
       "    }\n",
       "\n",
       "    .dataframe thead th {\n",
       "        text-align: right;\n",
       "    }\n",
       "</style>\n",
       "<table border=\"1\" class=\"dataframe\">\n",
       "  <thead>\n",
       "    <tr style=\"text-align: right;\">\n",
       "      <th></th>\n",
       "      <th>Open</th>\n",
       "      <th>High</th>\n",
       "      <th>Low</th>\n",
       "      <th>Close</th>\n",
       "      <th>Adj Close</th>\n",
       "      <th>Volume</th>\n",
       "    </tr>\n",
       "  </thead>\n",
       "  <tbody>\n",
       "    <tr>\n",
       "      <th>count</th>\n",
       "      <td>505.000000</td>\n",
       "      <td>505.000000</td>\n",
       "      <td>505.000000</td>\n",
       "      <td>505.000000</td>\n",
       "      <td>505.000000</td>\n",
       "      <td>5.050000e+02</td>\n",
       "    </tr>\n",
       "    <tr>\n",
       "      <th>mean</th>\n",
       "      <td>385.391723</td>\n",
       "      <td>390.291347</td>\n",
       "      <td>380.870416</td>\n",
       "      <td>385.614693</td>\n",
       "      <td>382.575584</td>\n",
       "      <td>6.996162e+05</td>\n",
       "    </tr>\n",
       "    <tr>\n",
       "      <th>std</th>\n",
       "      <td>67.485552</td>\n",
       "      <td>67.673877</td>\n",
       "      <td>67.327659</td>\n",
       "      <td>67.378659</td>\n",
       "      <td>68.525904</td>\n",
       "      <td>5.993578e+05</td>\n",
       "    </tr>\n",
       "    <tr>\n",
       "      <th>min</th>\n",
       "      <td>254.890000</td>\n",
       "      <td>257.610000</td>\n",
       "      <td>253.080000</td>\n",
       "      <td>255.700000</td>\n",
       "      <td>251.350000</td>\n",
       "      <td>1.843000e+05</td>\n",
       "    </tr>\n",
       "    <tr>\n",
       "      <th>25%</th>\n",
       "      <td>353.730000</td>\n",
       "      <td>360.580000</td>\n",
       "      <td>347.730000</td>\n",
       "      <td>354.620000</td>\n",
       "      <td>350.690000</td>\n",
       "      <td>4.495000e+05</td>\n",
       "    </tr>\n",
       "    <tr>\n",
       "      <th>50%</th>\n",
       "      <td>384.600000</td>\n",
       "      <td>387.580000</td>\n",
       "      <td>380.910000</td>\n",
       "      <td>383.920000</td>\n",
       "      <td>380.590000</td>\n",
       "      <td>5.776000e+05</td>\n",
       "    </tr>\n",
       "    <tr>\n",
       "      <th>75%</th>\n",
       "      <td>418.090000</td>\n",
       "      <td>423.110000</td>\n",
       "      <td>415.740000</td>\n",
       "      <td>419.700000</td>\n",
       "      <td>415.290000</td>\n",
       "      <td>7.863000e+05</td>\n",
       "    </tr>\n",
       "    <tr>\n",
       "      <th>max</th>\n",
       "      <td>541.990000</td>\n",
       "      <td>548.720000</td>\n",
       "      <td>536.110000</td>\n",
       "      <td>540.470000</td>\n",
       "      <td>539.480000</td>\n",
       "      <td>1.027880e+07</td>\n",
       "    </tr>\n",
       "  </tbody>\n",
       "</table>\n",
       "</div>"
      ],
      "text/plain": [
       "             Open        High         Low       Close   Adj Close  \\\n",
       "count  505.000000  505.000000  505.000000  505.000000  505.000000   \n",
       "mean   385.391723  390.291347  380.870416  385.614693  382.575584   \n",
       "std     67.485552   67.673877   67.327659   67.378659   68.525904   \n",
       "min    254.890000  257.610000  253.080000  255.700000  251.350000   \n",
       "25%    353.730000  360.580000  347.730000  354.620000  350.690000   \n",
       "50%    384.600000  387.580000  380.910000  383.920000  380.590000   \n",
       "75%    418.090000  423.110000  415.740000  419.700000  415.290000   \n",
       "max    541.990000  548.720000  536.110000  540.470000  539.480000   \n",
       "\n",
       "             Volume  \n",
       "count  5.050000e+02  \n",
       "mean   6.996162e+05  \n",
       "std    5.993578e+05  \n",
       "min    1.843000e+05  \n",
       "25%    4.495000e+05  \n",
       "50%    5.776000e+05  \n",
       "75%    7.863000e+05  \n",
       "max    1.027880e+07  "
      ]
     },
     "execution_count": 14,
     "metadata": {},
     "output_type": "execute_result"
    }
   ],
   "source": [
    "#Summary Statistics \n",
    "dominos.describe()"
   ]
  },
  {
   "cell_type": "code",
   "execution_count": 15,
   "id": "127385dc",
   "metadata": {},
   "outputs": [],
   "source": [
    "#Changes the data type stored in the data column.\n",
    "dominos['Date'] = pd.to_datetime(dominos['Date'])"
   ]
  },
  {
   "cell_type": "code",
   "execution_count": 16,
   "id": "6c7ba4d3",
   "metadata": {},
   "outputs": [
    {
     "data": {
      "text/plain": [
       "Timestamp('2019-10-16 00:00:00')"
      ]
     },
     "execution_count": 16,
     "metadata": {},
     "output_type": "execute_result"
    }
   ],
   "source": [
    "#Finds start date.\n",
    "dominos['Date'].min()"
   ]
  },
  {
   "cell_type": "code",
   "execution_count": 17,
   "id": "0ef82848",
   "metadata": {},
   "outputs": [
    {
     "data": {
      "text/plain": [
       "Timestamp('2021-10-15 00:00:00')"
      ]
     },
     "execution_count": 17,
     "metadata": {},
     "output_type": "execute_result"
    }
   ],
   "source": [
    "#Finds end date.\n",
    "dominos['Date'].max()"
   ]
  },
  {
   "cell_type": "code",
   "execution_count": 18,
   "id": "ff9dc737",
   "metadata": {
    "scrolled": true
   },
   "outputs": [
    {
     "name": "stderr",
     "output_type": "stream",
     "text": [
      "C:\\Users\\mamic\\AppData\\Local\\Temp\\ipykernel_31416\\3851530736.py:1: FutureWarning: The default value of numeric_only in DataFrame.corr is deprecated. In a future version, it will default to False. Select only valid columns or specify the value of numeric_only to silence this warning.\n",
      "  dominos.corr()\n"
     ]
    },
    {
     "data": {
      "text/html": [
       "<div>\n",
       "<style scoped>\n",
       "    .dataframe tbody tr th:only-of-type {\n",
       "        vertical-align: middle;\n",
       "    }\n",
       "\n",
       "    .dataframe tbody tr th {\n",
       "        vertical-align: top;\n",
       "    }\n",
       "\n",
       "    .dataframe thead th {\n",
       "        text-align: right;\n",
       "    }\n",
       "</style>\n",
       "<table border=\"1\" class=\"dataframe\">\n",
       "  <thead>\n",
       "    <tr style=\"text-align: right;\">\n",
       "      <th></th>\n",
       "      <th>Open</th>\n",
       "      <th>High</th>\n",
       "      <th>Low</th>\n",
       "      <th>Close</th>\n",
       "      <th>Adj Close</th>\n",
       "      <th>Volume</th>\n",
       "    </tr>\n",
       "  </thead>\n",
       "  <tbody>\n",
       "    <tr>\n",
       "      <th>Open</th>\n",
       "      <td>1.000000</td>\n",
       "      <td>0.996773</td>\n",
       "      <td>0.997980</td>\n",
       "      <td>0.995542</td>\n",
       "      <td>0.995534</td>\n",
       "      <td>-0.175188</td>\n",
       "    </tr>\n",
       "    <tr>\n",
       "      <th>High</th>\n",
       "      <td>0.996773</td>\n",
       "      <td>1.000000</td>\n",
       "      <td>0.995794</td>\n",
       "      <td>0.997934</td>\n",
       "      <td>0.997772</td>\n",
       "      <td>-0.147154</td>\n",
       "    </tr>\n",
       "    <tr>\n",
       "      <th>Low</th>\n",
       "      <td>0.997980</td>\n",
       "      <td>0.995794</td>\n",
       "      <td>1.000000</td>\n",
       "      <td>0.997341</td>\n",
       "      <td>0.997395</td>\n",
       "      <td>-0.187099</td>\n",
       "    </tr>\n",
       "    <tr>\n",
       "      <th>Close</th>\n",
       "      <td>0.995542</td>\n",
       "      <td>0.997934</td>\n",
       "      <td>0.997341</td>\n",
       "      <td>1.000000</td>\n",
       "      <td>0.999897</td>\n",
       "      <td>-0.163411</td>\n",
       "    </tr>\n",
       "    <tr>\n",
       "      <th>Adj Close</th>\n",
       "      <td>0.995534</td>\n",
       "      <td>0.997772</td>\n",
       "      <td>0.997395</td>\n",
       "      <td>0.999897</td>\n",
       "      <td>1.000000</td>\n",
       "      <td>-0.165840</td>\n",
       "    </tr>\n",
       "    <tr>\n",
       "      <th>Volume</th>\n",
       "      <td>-0.175188</td>\n",
       "      <td>-0.147154</td>\n",
       "      <td>-0.187099</td>\n",
       "      <td>-0.163411</td>\n",
       "      <td>-0.165840</td>\n",
       "      <td>1.000000</td>\n",
       "    </tr>\n",
       "  </tbody>\n",
       "</table>\n",
       "</div>"
      ],
      "text/plain": [
       "               Open      High       Low     Close  Adj Close    Volume\n",
       "Open       1.000000  0.996773  0.997980  0.995542   0.995534 -0.175188\n",
       "High       0.996773  1.000000  0.995794  0.997934   0.997772 -0.147154\n",
       "Low        0.997980  0.995794  1.000000  0.997341   0.997395 -0.187099\n",
       "Close      0.995542  0.997934  0.997341  1.000000   0.999897 -0.163411\n",
       "Adj Close  0.995534  0.997772  0.997395  0.999897   1.000000 -0.165840\n",
       "Volume    -0.175188 -0.147154 -0.187099 -0.163411  -0.165840  1.000000"
      ]
     },
     "execution_count": 18,
     "metadata": {},
     "output_type": "execute_result"
    }
   ],
   "source": [
    "#Correlation matrix\n",
    "dominos.corr()"
   ]
  },
  {
   "cell_type": "code",
   "execution_count": 19,
   "id": "2c50aea3",
   "metadata": {},
   "outputs": [
    {
     "data": {
      "text/plain": [
       "0"
      ]
     },
     "execution_count": 19,
     "metadata": {},
     "output_type": "execute_result"
    }
   ],
   "source": [
    "#Finding any duplicate rows. \n",
    "dominos.duplicated().sum()"
   ]
  },
  {
   "cell_type": "code",
   "execution_count": 20,
   "id": "0d6d4172",
   "metadata": {},
   "outputs": [
    {
     "data": {
      "text/html": [
       "<div>\n",
       "<style scoped>\n",
       "    .dataframe tbody tr th:only-of-type {\n",
       "        vertical-align: middle;\n",
       "    }\n",
       "\n",
       "    .dataframe tbody tr th {\n",
       "        vertical-align: top;\n",
       "    }\n",
       "\n",
       "    .dataframe thead th {\n",
       "        text-align: right;\n",
       "    }\n",
       "</style>\n",
       "<table border=\"1\" class=\"dataframe\">\n",
       "  <thead>\n",
       "    <tr style=\"text-align: right;\">\n",
       "      <th></th>\n",
       "      <th>Date</th>\n",
       "      <th>Open</th>\n",
       "      <th>High</th>\n",
       "      <th>Low</th>\n",
       "      <th>Close</th>\n",
       "      <th>Adj Close</th>\n",
       "      <th>Volume</th>\n",
       "    </tr>\n",
       "  </thead>\n",
       "  <tbody>\n",
       "  </tbody>\n",
       "</table>\n",
       "</div>"
      ],
      "text/plain": [
       "Empty DataFrame\n",
       "Columns: [Date, Open, High, Low, Close, Adj Close, Volume]\n",
       "Index: []"
      ]
     },
     "execution_count": 20,
     "metadata": {},
     "output_type": "execute_result"
    }
   ],
   "source": [
    "#Finds if there exists any outliers. \n",
    "z_scores = stats.zscore(dominos['Close']) \n",
    "dominos[(z_scores > 3) | (z_scores < -3)]"
   ]
  },
  {
   "cell_type": "code",
   "execution_count": 21,
   "id": "7b0ca341",
   "metadata": {},
   "outputs": [
    {
     "data": {
      "text/html": [
       "<div>\n",
       "<style scoped>\n",
       "    .dataframe tbody tr th:only-of-type {\n",
       "        vertical-align: middle;\n",
       "    }\n",
       "\n",
       "    .dataframe tbody tr th {\n",
       "        vertical-align: top;\n",
       "    }\n",
       "\n",
       "    .dataframe thead th {\n",
       "        text-align: right;\n",
       "    }\n",
       "</style>\n",
       "<table border=\"1\" class=\"dataframe\">\n",
       "  <thead>\n",
       "    <tr style=\"text-align: right;\">\n",
       "      <th></th>\n",
       "      <th>Date</th>\n",
       "      <th>Open</th>\n",
       "      <th>High</th>\n",
       "      <th>Low</th>\n",
       "      <th>Close</th>\n",
       "      <th>Adj Close</th>\n",
       "      <th>Volume</th>\n",
       "    </tr>\n",
       "  </thead>\n",
       "  <tbody>\n",
       "    <tr>\n",
       "      <th>142</th>\n",
       "      <td>2020-05-11</td>\n",
       "      <td>369.15</td>\n",
       "      <td>382.73</td>\n",
       "      <td>365.03</td>\n",
       "      <td>377.49</td>\n",
       "      <td>372.76</td>\n",
       "      <td>10278800</td>\n",
       "    </tr>\n",
       "    <tr>\n",
       "      <th>86</th>\n",
       "      <td>2020-02-20</td>\n",
       "      <td>362.03</td>\n",
       "      <td>381.86</td>\n",
       "      <td>356.96</td>\n",
       "      <td>373.16</td>\n",
       "      <td>367.62</td>\n",
       "      <td>5009700</td>\n",
       "    </tr>\n",
       "    <tr>\n",
       "      <th>247</th>\n",
       "      <td>2020-10-08</td>\n",
       "      <td>405.90</td>\n",
       "      <td>410.92</td>\n",
       "      <td>394.90</td>\n",
       "      <td>401.01</td>\n",
       "      <td>397.58</td>\n",
       "      <td>3793100</td>\n",
       "    </tr>\n",
       "    <tr>\n",
       "      <th>444</th>\n",
       "      <td>2021-07-22</td>\n",
       "      <td>484.99</td>\n",
       "      <td>548.72</td>\n",
       "      <td>484.00</td>\n",
       "      <td>538.82</td>\n",
       "      <td>537.83</td>\n",
       "      <td>3038100</td>\n",
       "    </tr>\n",
       "    <tr>\n",
       "      <th>342</th>\n",
       "      <td>2021-02-25</td>\n",
       "      <td>340.00</td>\n",
       "      <td>344.19</td>\n",
       "      <td>331.22</td>\n",
       "      <td>339.00</td>\n",
       "      <td>336.79</td>\n",
       "      <td>2628600</td>\n",
       "    </tr>\n",
       "  </tbody>\n",
       "</table>\n",
       "</div>"
      ],
      "text/plain": [
       "          Date    Open    High     Low   Close  Adj Close    Volume\n",
       "142 2020-05-11  369.15  382.73  365.03  377.49     372.76  10278800\n",
       "86  2020-02-20  362.03  381.86  356.96  373.16     367.62   5009700\n",
       "247 2020-10-08  405.90  410.92  394.90  401.01     397.58   3793100\n",
       "444 2021-07-22  484.99  548.72  484.00  538.82     537.83   3038100\n",
       "342 2021-02-25  340.00  344.19  331.22  339.00     336.79   2628600"
      ]
     },
     "execution_count": 21,
     "metadata": {},
     "output_type": "execute_result"
    }
   ],
   "source": [
    "#Find top 5 days with highest trader action.\n",
    "dominos.nlargest(5,'Volume')"
   ]
  },
  {
   "cell_type": "code",
   "execution_count": 22,
   "id": "3d5d67e2",
   "metadata": {},
   "outputs": [
    {
     "data": {
      "text/html": [
       "<div>\n",
       "<style scoped>\n",
       "    .dataframe tbody tr th:only-of-type {\n",
       "        vertical-align: middle;\n",
       "    }\n",
       "\n",
       "    .dataframe tbody tr th {\n",
       "        vertical-align: top;\n",
       "    }\n",
       "\n",
       "    .dataframe thead th {\n",
       "        text-align: right;\n",
       "    }\n",
       "</style>\n",
       "<table border=\"1\" class=\"dataframe\">\n",
       "  <thead>\n",
       "    <tr style=\"text-align: right;\">\n",
       "      <th></th>\n",
       "      <th>Date</th>\n",
       "      <th>Open</th>\n",
       "      <th>High</th>\n",
       "      <th>Low</th>\n",
       "      <th>Close</th>\n",
       "      <th>Adj Close</th>\n",
       "      <th>Volume</th>\n",
       "    </tr>\n",
       "  </thead>\n",
       "  <tbody>\n",
       "    <tr>\n",
       "      <th>301</th>\n",
       "      <td>2020-12-24</td>\n",
       "      <td>402.52</td>\n",
       "      <td>404.56</td>\n",
       "      <td>395.66</td>\n",
       "      <td>396.73</td>\n",
       "      <td>394.14</td>\n",
       "      <td>184300</td>\n",
       "    </tr>\n",
       "    <tr>\n",
       "      <th>469</th>\n",
       "      <td>2021-08-26</td>\n",
       "      <td>512.46</td>\n",
       "      <td>514.49</td>\n",
       "      <td>508.44</td>\n",
       "      <td>510.59</td>\n",
       "      <td>509.65</td>\n",
       "      <td>238200</td>\n",
       "    </tr>\n",
       "    <tr>\n",
       "      <th>470</th>\n",
       "      <td>2021-08-27</td>\n",
       "      <td>508.03</td>\n",
       "      <td>513.06</td>\n",
       "      <td>508.03</td>\n",
       "      <td>511.87</td>\n",
       "      <td>510.93</td>\n",
       "      <td>238700</td>\n",
       "    </tr>\n",
       "    <tr>\n",
       "      <th>492</th>\n",
       "      <td>2021-09-29</td>\n",
       "      <td>486.66</td>\n",
       "      <td>488.36</td>\n",
       "      <td>482.42</td>\n",
       "      <td>483.00</td>\n",
       "      <td>483.00</td>\n",
       "      <td>248300</td>\n",
       "    </tr>\n",
       "    <tr>\n",
       "      <th>488</th>\n",
       "      <td>2021-09-23</td>\n",
       "      <td>497.88</td>\n",
       "      <td>498.88</td>\n",
       "      <td>492.50</td>\n",
       "      <td>492.81</td>\n",
       "      <td>492.81</td>\n",
       "      <td>252100</td>\n",
       "    </tr>\n",
       "  </tbody>\n",
       "</table>\n",
       "</div>"
      ],
      "text/plain": [
       "          Date    Open    High     Low   Close  Adj Close  Volume\n",
       "301 2020-12-24  402.52  404.56  395.66  396.73     394.14  184300\n",
       "469 2021-08-26  512.46  514.49  508.44  510.59     509.65  238200\n",
       "470 2021-08-27  508.03  513.06  508.03  511.87     510.93  238700\n",
       "492 2021-09-29  486.66  488.36  482.42  483.00     483.00  248300\n",
       "488 2021-09-23  497.88  498.88  492.50  492.81     492.81  252100"
      ]
     },
     "execution_count": 22,
     "metadata": {},
     "output_type": "execute_result"
    }
   ],
   "source": [
    "#Find top 5 days with lowest trader action. \n",
    "dominos.nsmallest(5,'Volume')"
   ]
  },
  {
   "cell_type": "code",
   "execution_count": 23,
   "id": "0d7e1982",
   "metadata": {},
   "outputs": [],
   "source": [
    "#Drops Adj Close column in the dataset.\n",
    "dominos.drop('Adj Close', axis = 1, inplace = True)"
   ]
  },
  {
   "cell_type": "code",
   "execution_count": 24,
   "id": "7f4bef6d",
   "metadata": {},
   "outputs": [],
   "source": [
    "#Sets index to the date.\n",
    "dominos.set_index('Date', inplace=True)"
   ]
  },
  {
   "cell_type": "code",
   "execution_count": 25,
   "id": "5958b94c",
   "metadata": {
    "scrolled": true
   },
   "outputs": [
    {
     "data": {
      "text/plain": [
       "<matplotlib.legend.Legend at 0x1ebeb885dd0>"
      ]
     },
     "execution_count": 25,
     "metadata": {},
     "output_type": "execute_result"
    },
    {
     "data": {
      "image/png": "[encoded data removed]",
      "text/plain": [
       "<Figure size 1200x600 with 1 Axes>"
      ]
     },
     "metadata": {},
     "output_type": "display_data"
    }
   ],
   "source": [
    "#Visualizes trading volume overtime. \n",
    "plt.figure(figsize=(12, 6))\n",
    "plt.subplot(2, 1, 1)\n",
    "plt.plot(dominos.index, dominos['Volume'], color='blue', label='Trading Volume')\n",
    "plt.title('Trading Volume Over Time')\n",
    "plt.xlabel('Date')\n",
    "plt.ylabel('Trading Volume')\n",
    "plt.legend()\n"
   ]
  },
  {
   "cell_type": "code",
   "execution_count": 26,
   "id": "f2167e65",
   "metadata": {},
   "outputs": [
    {
     "data": {
      "text/plain": [
       "<matplotlib.legend.Legend at 0x1ebf18cc050>"
      ]
     },
     "execution_count": 26,
     "metadata": {},
     "output_type": "execute_result"
    },
    {
     "data": {
      "image/png": "[encoded data removed]",
      "text/plain": [
       "<Figure size 1200x600 with 1 Axes>"
      ]
     },
     "metadata": {},
     "output_type": "display_data"
    }
   ],
   "source": [
    "#Visualizes closing price overtime.\n",
    "plt.figure(figsize=(12, 6))\n",
    "plt.subplot(2, 1, 2)\n",
    "plt.plot(dominos.index, dominos['Close'], color='green', label='Closing Price')\n",
    "plt.title('Closing Price Over Time')\n",
    "plt.xlabel('Date')\n",
    "plt.ylabel('Closing Price')\n",
    "plt.legend()"
   ]
  },
  {
   "cell_type": "code",
   "execution_count": 27,
   "id": "867046aa",
   "metadata": {
    "scrolled": false
   },
   "outputs": [
    {
     "data": {
      "image/png": "[encoded data removed]",
      "text/plain": [
       "<Figure size 1200x600 with 1 Axes>"
      ]
     },
     "metadata": {},
     "output_type": "display_data"
    }
   ],
   "source": [
    "#Creates Return column as a percent change, resets the index, and visualizes it overtime. \n",
    "dominos.reset_index(inplace=True)\n",
    "dominos['Return'] = dominos['Close'].pct_change() * 100\n",
    "plt.figure(figsize=(12, 6))\n",
    "plt.plot(dominos['Date'], dominos['Return'], label='Daily Returns', color='blue')\n",
    "plt.title('Daily Returns for Domino\\'s Stock')\n",
    "plt.xlabel('Date')\n",
    "plt.ylabel('Percentage Change (%)')\n",
    "plt.legend()\n",
    "plt.grid(True)\n",
    "plt.show()\n"
   ]
  },
  {
   "cell_type": "code",
   "execution_count": 28,
   "id": "ab459380",
   "metadata": {},
   "outputs": [],
   "source": [
    "#Fills the na in the return column, sets it equal to 0. Does not affect the visualization above. \n",
    "dominos['Return'].fillna(0,inplace=True)"
   ]
  },
  {
   "cell_type": "code",
   "execution_count": 29,
   "id": "e692f899",
   "metadata": {},
   "outputs": [
    {
     "data": {
      "text/plain": [
       "Year\n",
       "2019    0.270001\n",
       "2020    0.141122\n",
       "2021    0.098777\n",
       "Name: Return, dtype: float64"
      ]
     },
     "execution_count": 29,
     "metadata": {},
     "output_type": "execute_result"
    }
   ],
   "source": [
    "#Creates year column and shows the mean return for each year.\n",
    "dominos['Year'] = dominos['Date'].dt.year\n",
    "dominos.groupby('Year')['Return'].mean()"
   ]
  },
  {
   "cell_type": "code",
   "execution_count": 30,
   "id": "fda97d14",
   "metadata": {},
   "outputs": [
    {
     "data": {
      "text/plain": [
       "8"
      ]
     },
     "execution_count": 30,
     "metadata": {},
     "output_type": "execute_result"
    }
   ],
   "source": [
    "#Finds the number of days with consecutive positive returns.\n",
    "conin = (dominos['Return']> 0)\n",
    "conin.groupby((~conin).cumsum()).cumcount().max() + 1 "
   ]
  },
  {
   "cell_type": "code",
   "execution_count": 31,
   "id": "8e35e759",
   "metadata": {},
   "outputs": [
    {
     "data": {
      "text/plain": [
       "8"
      ]
     },
     "execution_count": 31,
     "metadata": {},
     "output_type": "execute_result"
    }
   ],
   "source": [
    "#Finds the number of days with consecutive negative returns. \n",
    "conde = (dominos['Return']> 0)\n",
    "conde.groupby((~conde).cumsum()).cumcount().max() + 1 "
   ]
  },
  {
   "cell_type": "code",
   "execution_count": 32,
   "id": "49a10c94",
   "metadata": {},
   "outputs": [
    {
     "data": {
      "text/plain": [
       "0.13796142236277276"
      ]
     },
     "execution_count": 32,
     "metadata": {},
     "output_type": "execute_result"
    }
   ],
   "source": [
    "#Creates price gap column(Difference between opening price and closing price of the previous day).\n",
    "dominos['Price Gap'] = (dominos['Open'] - dominos['Close'].shift(1))\n",
    "dominos['Price Gap'].fillna(0,inplace=True)\n",
    "dominos[dominos['Price Gap'].notna()].apply(lambda row: row['Return'], axis=1).mean()"
   ]
  },
  {
   "cell_type": "code",
   "execution_count": 33,
   "id": "eef3ee90",
   "metadata": {},
   "outputs": [
    {
     "data": {
      "text/plain": [
       "0.17310891089108943"
      ]
     },
     "execution_count": 33,
     "metadata": {},
     "output_type": "execute_result"
    }
   ],
   "source": [
    "#Finds average price gap\n",
    "dominos['Price Gap'].mean()"
   ]
  },
  {
   "cell_type": "code",
   "execution_count": 34,
   "id": "4411bf70",
   "metadata": {},
   "outputs": [
    {
     "data": {
      "text/plain": [
       "9.036274116179685e+54"
      ]
     },
     "execution_count": 34,
     "metadata": {},
     "output_type": "execute_result"
    }
   ],
   "source": [
    "#Find total return for 1 investing year which is 252 days \n",
    "investment_horizon = 252 \n",
    "total_return = (1 + dominos['Return'] / 100).cumprod().tail(investment_horizon).prod() - 1\n",
    "total_return"
   ]
  },
  {
   "cell_type": "code",
   "execution_count": 35,
   "id": "5f5f7ae5",
   "metadata": {},
   "outputs": [
    {
     "data": {
      "text/plain": [
       "Year\n",
       "2019     5.569245\n",
       "2020    10.744111\n",
       "2021     8.764523\n",
       "Name: Price Range, dtype: float64"
      ]
     },
     "execution_count": 35,
     "metadata": {},
     "output_type": "execute_result"
    }
   ],
   "source": [
    "#Finds the average price range for each year\n",
    "dominos['Price Range'] = dominos['High'] - dominos['Low']\n",
    "dominos.groupby('Year')['Price Range'].mean()"
   ]
  },
  {
   "cell_type": "code",
   "execution_count": 36,
   "id": "940679ff",
   "metadata": {},
   "outputs": [
    {
     "data": {
      "text/html": [
       "<div>\n",
       "<style scoped>\n",
       "    .dataframe tbody tr th:only-of-type {\n",
       "        vertical-align: middle;\n",
       "    }\n",
       "\n",
       "    .dataframe tbody tr th {\n",
       "        vertical-align: top;\n",
       "    }\n",
       "\n",
       "    .dataframe thead th {\n",
       "        text-align: right;\n",
       "    }\n",
       "</style>\n",
       "<table border=\"1\" class=\"dataframe\">\n",
       "  <thead>\n",
       "    <tr style=\"text-align: right;\">\n",
       "      <th></th>\n",
       "      <th>Date</th>\n",
       "      <th>Open</th>\n",
       "      <th>High</th>\n",
       "      <th>Low</th>\n",
       "      <th>Close</th>\n",
       "      <th>Volume</th>\n",
       "      <th>Return</th>\n",
       "      <th>Year</th>\n",
       "      <th>Price Gap</th>\n",
       "      <th>Price Range</th>\n",
       "    </tr>\n",
       "  </thead>\n",
       "  <tbody>\n",
       "    <tr>\n",
       "      <th>444</th>\n",
       "      <td>2021-07-22</td>\n",
       "      <td>484.99</td>\n",
       "      <td>548.72</td>\n",
       "      <td>484.00</td>\n",
       "      <td>538.82</td>\n",
       "      <td>3038100</td>\n",
       "      <td>14.552374</td>\n",
       "      <td>2021</td>\n",
       "      <td>14.62</td>\n",
       "      <td>64.72</td>\n",
       "    </tr>\n",
       "    <tr>\n",
       "      <th>106</th>\n",
       "      <td>2020-03-19</td>\n",
       "      <td>292.00</td>\n",
       "      <td>337.22</td>\n",
       "      <td>289.34</td>\n",
       "      <td>323.14</td>\n",
       "      <td>1423000</td>\n",
       "      <td>11.427586</td>\n",
       "      <td>2020</td>\n",
       "      <td>2.00</td>\n",
       "      <td>47.88</td>\n",
       "    </tr>\n",
       "    <tr>\n",
       "      <th>107</th>\n",
       "      <td>2020-03-20</td>\n",
       "      <td>326.91</td>\n",
       "      <td>344.20</td>\n",
       "      <td>298.14</td>\n",
       "      <td>299.95</td>\n",
       "      <td>1802800</td>\n",
       "      <td>-7.176456</td>\n",
       "      <td>2020</td>\n",
       "      <td>3.77</td>\n",
       "      <td>46.06</td>\n",
       "    </tr>\n",
       "    <tr>\n",
       "      <th>108</th>\n",
       "      <td>2020-03-23</td>\n",
       "      <td>310.91</td>\n",
       "      <td>336.80</td>\n",
       "      <td>294.21</td>\n",
       "      <td>323.87</td>\n",
       "      <td>1340500</td>\n",
       "      <td>7.974662</td>\n",
       "      <td>2020</td>\n",
       "      <td>10.96</td>\n",
       "      <td>42.59</td>\n",
       "    </tr>\n",
       "    <tr>\n",
       "      <th>503</th>\n",
       "      <td>2021-10-14</td>\n",
       "      <td>461.00</td>\n",
       "      <td>489.89</td>\n",
       "      <td>455.96</td>\n",
       "      <td>477.48</td>\n",
       "      <td>1518300</td>\n",
       "      <td>0.251953</td>\n",
       "      <td>2021</td>\n",
       "      <td>-15.28</td>\n",
       "      <td>33.93</td>\n",
       "    </tr>\n",
       "  </tbody>\n",
       "</table>\n",
       "</div>"
      ],
      "text/plain": [
       "          Date    Open    High     Low   Close   Volume     Return  Year  \\\n",
       "444 2021-07-22  484.99  548.72  484.00  538.82  3038100  14.552374  2021   \n",
       "106 2020-03-19  292.00  337.22  289.34  323.14  1423000  11.427586  2020   \n",
       "107 2020-03-20  326.91  344.20  298.14  299.95  1802800  -7.176456  2020   \n",
       "108 2020-03-23  310.91  336.80  294.21  323.87  1340500   7.974662  2020   \n",
       "503 2021-10-14  461.00  489.89  455.96  477.48  1518300   0.251953  2021   \n",
       "\n",
       "     Price Gap  Price Range  \n",
       "444      14.62        64.72  \n",
       "106       2.00        47.88  \n",
       "107       3.77        46.06  \n",
       "108      10.96        42.59  \n",
       "503     -15.28        33.93  "
      ]
     },
     "execution_count": 36,
     "metadata": {},
     "output_type": "execute_result"
    }
   ],
   "source": [
    "#Top five largest price ranges from low to high\n",
    "dominos.nlargest(5,'Price Range')"
   ]
  },
  {
   "cell_type": "code",
   "execution_count": 37,
   "id": "6143db5c",
   "metadata": {},
   "outputs": [
    {
     "data": {
      "text/plain": [
       "260"
      ]
     },
     "execution_count": 37,
     "metadata": {},
     "output_type": "execute_result"
    }
   ],
   "source": [
    "#Total number of days with positive returns\n",
    "(dominos['Return'] > 0).apply(lambda x: x).mean() * 100\n",
    "dominos['Return'].apply(lambda x: 1 if x > 0 else 0).sum()"
   ]
  },
  {
   "cell_type": "code",
   "execution_count": 38,
   "id": "b63af770",
   "metadata": {},
   "outputs": [
    {
     "data": {
      "text/plain": [
       "241"
      ]
     },
     "execution_count": 38,
     "metadata": {},
     "output_type": "execute_result"
    }
   ],
   "source": [
    "#Total number of days with negative returns\n",
    "(dominos['Return'] < 0).apply(lambda x: x).mean() * 100\n",
    "dominos['Return'].apply(lambda x: 1 if x < 0 else 0).sum()"
   ]
  },
  {
   "cell_type": "code",
   "execution_count": 39,
   "id": "89cde66f",
   "metadata": {},
   "outputs": [
    {
     "data": {
      "text/plain": [
       "4"
      ]
     },
     "execution_count": 39,
     "metadata": {},
     "output_type": "execute_result"
    }
   ],
   "source": [
    "#Total number of days with 0 returns \n",
    "(dominos['Return'] == 0).apply(lambda x: x).mean() * 100\n",
    "dominos['Return'].apply(lambda x: 1 if x == 0 else 0).sum()"
   ]
  },
  {
   "cell_type": "code",
   "execution_count": 41,
   "id": "c6258932",
   "metadata": {
    "scrolled": true
   },
   "outputs": [
    {
     "name": "stderr",
     "output_type": "stream",
     "text": [
      "C:\\Users\\mamic\\anaconda3\\Lib\\site-packages\\sklearn\\cluster\\_kmeans.py:1412: FutureWarning: The default value of `n_init` will change from 10 to 'auto' in 1.4. Set the value of `n_init` explicitly to suppress the warning\n",
      "  super()._check_params_vs_input(X, default_n_init=10)\n",
      "C:\\Users\\mamic\\anaconda3\\Lib\\site-packages\\sklearn\\cluster\\_kmeans.py:1436: UserWarning: KMeans is known to have a memory leak on Windows with MKL, when there are less chunks than available threads. You can avoid it by setting the environment variable OMP_NUM_THREADS=2.\n",
      "  warnings.warn(\n"
     ]
    },
    {
     "data": {
      "image/png": "[encoded data removed]",
      "text/plain": [
       "<Figure size 640x480 with 1 Axes>"
      ]
     },
     "metadata": {},
     "output_type": "display_data"
    }
   ],
   "source": [
    "#Uses Kmeans clustering to visualize the data and its trends categorizing it into three different clusters. \n",
    "features = dominos[['Open', 'High', 'Low', 'Close', 'Volume']]\n",
    "features_standardized = (features - features.mean()) / features.std()\n",
    "kmeans = KMeans(n_clusters=3, random_state=42)\n",
    "dominos['Cluster'] = kmeans.fit_predict(features_standardized)\n",
    "plt.scatter(dominos.index, dominos['Close'], c=dominos['Cluster'], cmap='viridis')\n",
    "plt.title('Clustering of Domino\\'s Pizza Stock Prices')\n",
    "plt.xlabel('Days')\n",
    "plt.ylabel('Adj Close Price')\n",
    "plt.show()\n"
   ]
  },
  {
   "cell_type": "code",
   "execution_count": null,
   "id": "44f57aaa",
   "metadata": {},
   "outputs": [],
   "source": []
  }
 ],
 "metadata": {
  "kernelspec": {
   "display_name": "Python 3 (ipykernel)",
   "language": "python",
   "name": "python3"
  },
  "language_info": {
   "codemirror_mode": {
    "name": "ipython",
    "version": 3
   },
   "file_extension": ".py",
   "mimetype": "text/x-python",
   "name": "python",
   "nbconvert_exporter": "python",
   "pygments_lexer": "ipython3",
   "version": "3.11.4"
  }
 },
 "nbformat": 4,
 "nbformat_minor": 5
}
